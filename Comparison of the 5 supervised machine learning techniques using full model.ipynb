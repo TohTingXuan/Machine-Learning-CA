{
 "cells": [
  {
   "cell_type": "markdown",
   "metadata": {},
   "source": [
    "## Comparison of the 5 supervised machine learning techniques\n",
    "\n",
    "1. Using full model (16 features)\n",
    "2. Using full model + Data Balancing\n"
   ]
  },
  {
   "cell_type": "markdown",
   "metadata": {},
   "source": [
    "### Basic Data Preparation"
   ]
  },
  {
   "cell_type": "code",
   "execution_count": 1,
   "metadata": {},
   "outputs": [],
   "source": [
    "# import everything we need first\n",
    "import numpy as np\n",
    "import pandas as pd\n",
    "import sklearn\n",
    "import matplotlib.pyplot as plt\n",
    "import seaborn as sns"
   ]
  },
  {
   "cell_type": "code",
   "execution_count": 2,
   "metadata": {},
   "outputs": [],
   "source": [
    "df = pd.read_csv('xAPI-Edu-Data.csv')"
   ]
  },
  {
   "cell_type": "code",
   "execution_count": 3,
   "metadata": {},
   "outputs": [],
   "source": [
    "#make the random capitalisations in some of the columns consistent\n",
    "df.rename(index=str, columns={'gender':'Gender', 'NationalITy':'Nationality',\n",
    "                               'raisedhands':'RaisedHands', 'VisITedResources':'VisitedResources'},\n",
    "                               inplace=True)\n"
   ]
  },
  {
   "cell_type": "markdown",
   "metadata": {},
   "source": [
    "### Importing classifiers, metrics, train/test split, time"
   ]
  },
  {
   "cell_type": "code",
   "execution_count": 4,
   "metadata": {},
   "outputs": [],
   "source": [
    "from sklearn.model_selection import train_test_split\n",
    "\n",
    "from sklearn.linear_model import LogisticRegression\n",
    "from sklearn.ensemble import RandomForestClassifier\n",
    "from sklearn.tree import DecisionTreeClassifier\n",
    "from sklearn.svm import SVC\n",
    "from sklearn.neighbors import KNeighborsClassifier\n",
    "from sklearn.metrics import confusion_matrix, accuracy_score\n",
    "\n",
    "import time\n"
   ]
  },
  {
   "cell_type": "markdown",
   "metadata": {},
   "source": [
    "### 1. Using full model"
   ]
  },
  {
   "cell_type": "markdown",
   "metadata": {},
   "source": [
    "#### 1.1 Label Encoding of Categorical Data"
   ]
  },
  {
   "cell_type": "code",
   "execution_count": 5,
   "metadata": {},
   "outputs": [],
   "source": [
    "from sklearn.preprocessing import LabelEncoder\n",
    "\n",
    "target = {\n",
    "    'M': 1,\n",
    "    'L': 0,\n",
    "    'H': 2\n",
    "}\n",
    "df['Class'] = df['Class'].map(target)\n",
    "\n",
    "X = df.drop('Class', axis=1)\n",
    "y = df['Class']\n",
    "\n",
    "# Encoding our categorical columns in X\n",
    "labelEncoder = LabelEncoder()\n",
    "cat_columns = X.dtypes.pipe(lambda x: x[x == 'object']).index\n",
    "for col in cat_columns:\n",
    "    X[col] = labelEncoder.fit_transform(X[col])    "
   ]
  },
  {
   "cell_type": "markdown",
   "metadata": {},
   "source": [
    "#### 1.2 Split dataset into train and test data"
   ]
  },
  {
   "cell_type": "code",
   "execution_count": 6,
   "metadata": {},
   "outputs": [],
   "source": [
    "X_train_full, X_test_full, y_train_full, y_test_full = train_test_split(X, y, random_state=42)"
   ]
  },
  {
   "cell_type": "markdown",
   "metadata": {},
   "source": [
    "#### 1.3 Models training and performance evaluation"
   ]
  },
  {
   "cell_type": "code",
   "execution_count": 7,
   "metadata": {},
   "outputs": [
    {
     "name": "stderr",
     "output_type": "stream",
     "text": [
      "C:\\Users\\Jordan\\Anaconda3\\envs\\sa48\\lib\\site-packages\\sklearn\\linear_model\\logistic.py:947: ConvergenceWarning: lbfgs failed to converge. Increase the number of iterations.\n",
      "  \"of iterations.\", ConvergenceWarning)\n"
     ]
    },
    {
     "name": "stdout",
     "output_type": "stream",
     "text": [
      "Logistic Regression\n",
      "\n",
      "Confusion matrix:\n",
      "[[31  3  0]\n",
      " [ 8 37 13]\n",
      " [ 0 13 15]]\n",
      "Accuracy score: 0.6916666666666667\n",
      "Training took 0.061884164810180664 seconds.\n",
      "\n",
      "\n",
      "\n",
      "K-NN Classification\n",
      "\n",
      "Confusion matrix:\n",
      "[[28  6  0]\n",
      " [11 33 14]\n",
      " [ 2  9 17]]\n",
      "Accuracy score: 0.65\n",
      "Training took 0.002994060516357422 seconds.\n",
      "\n",
      "\n",
      "\n",
      "Support Vector Machines\n",
      "\n",
      "Confusion matrix:\n",
      "[[30  4  0]\n",
      " [ 5 46  7]\n",
      " [ 0  8 20]]\n",
      "Accuracy score: 0.8\n",
      "Training took 0.712092399597168 seconds.\n",
      "\n",
      "\n",
      "\n",
      "Decision Tree\n",
      "\n",
      "Confusion matrix:\n",
      "[[28  6  0]\n",
      " [ 6 43  9]\n",
      " [ 0  6 22]]\n",
      "Accuracy score: 0.775\n",
      "Training took 0.003991127014160156 seconds.\n",
      "\n",
      "\n",
      "\n",
      "Random Forest\n",
      "\n",
      "Confusion matrix:\n",
      "[[31  3  0]\n",
      " [ 4 48  6]\n",
      " [ 0  7 21]]\n",
      "Accuracy score: 0.8333333333333334\n",
      "Training took 0.23934626579284668 seconds.\n",
      "\n",
      "\n",
      "\n",
      "Comparison of the 5 supervised machine learning techniques using full model\n",
      "                     Model  Accuracy score  Training time\n",
      "0      Logistic Regression        0.691667       0.061884\n",
      "1      K-NN Classification        0.650000       0.002994\n",
      "2  Support Vector Machines        0.800000       0.712092\n",
      "3            Decision Tree        0.775000       0.003991\n",
      "4            Random Forest        0.833333       0.239346\n"
     ]
    }
   ],
   "source": [
    "keys = []\n",
    "scores = []\n",
    "timings = []\n",
    "models = {'Logistic Regression': LogisticRegression(solver = 'lbfgs', multi_class = 'multinomial'), \n",
    "          'K-NN Classification': KNeighborsClassifier(n_neighbors = 3),\n",
    "          'Support Vector Machines': SVC(kernel = 'linear'), 'Decision Tree': DecisionTreeClassifier(),\n",
    "          'Random Forest': RandomForestClassifier(n_estimators=150, random_state=42)}\n",
    "modelss = {'Decision Tree': DecisionTreeClassifier()}\n",
    "\n",
    "for k,v in models.items():\n",
    "    mod = v\n",
    "    start_time = time.time()\n",
    "    mod.fit(X_train_full, y_train_full)\n",
    "    time_elapsed = time.time() - start_time\n",
    "    pred = mod.predict(X_test_full)\n",
    "    print(str(k) + '\\n')\n",
    "    print(\"Confusion matrix:\")\n",
    "    print(confusion_matrix(y_test_full, pred))\n",
    "    accuracy = accuracy_score(y_test_full, pred)\n",
    "    print(\"Accuracy score: \"+ str(accuracy))\n",
    "    print(\"Training took %s seconds.\" % (time_elapsed))\n",
    "    print('\\n' + '\\n')\n",
    "    keys.append(k)\n",
    "    scores.append(accuracy)\n",
    "    timings.append(time_elapsed)\n",
    "    table_fullmodel = pd.DataFrame({'Model':keys, 'Accuracy score':scores, 'Training time':timings})\n",
    "print(\"Comparison of the 5 supervised machine learning techniques using full model\")\n",
    "print(table_fullmodel)"
   ]
  },
  {
   "cell_type": "markdown",
   "metadata": {},
   "source": [
    "### 2. Using full model + Data Balancing"
   ]
  },
  {
   "cell_type": "markdown",
   "metadata": {},
   "source": [
    "#### 2.1 Performing data balancing"
   ]
  },
  {
   "cell_type": "markdown",
   "metadata": {},
   "source": [
    "Before data balancing"
   ]
  },
  {
   "cell_type": "code",
   "execution_count": 8,
   "metadata": {},
   "outputs": [
    {
     "data": {
      "text/plain": [
       "1    211\n",
       "2    142\n",
       "0    127\n",
       "Name: Class, dtype: int64"
      ]
     },
     "execution_count": 8,
     "metadata": {},
     "output_type": "execute_result"
    }
   ],
   "source": [
    "df['Class'].value_counts()"
   ]
  },
  {
   "cell_type": "markdown",
   "metadata": {},
   "source": [
    "After data balancing"
   ]
  },
  {
   "cell_type": "code",
   "execution_count": 9,
   "metadata": {},
   "outputs": [
    {
     "data": {
      "text/plain": [
       "M    148\n",
       "H    142\n",
       "L    127\n",
       "Name: Class, dtype: int64"
      ]
     },
     "execution_count": 9,
     "metadata": {},
     "output_type": "execute_result"
    }
   ],
   "source": [
    "# we will randomly take 70% from class M (encoded as 1) as samples to balance the data.\n",
    "df_balanced = pd.read_csv('xAPI-Edu-Data.csv')\n",
    "df_balanced = df_balanced.drop(df_balanced.query(\"Class == 'M'\").sample(frac = 0.3).index)\n",
    "df_balanced['Class'].value_counts()"
   ]
  },
  {
   "cell_type": "markdown",
   "metadata": {},
   "source": [
    "#### 2.2 Label Encoding of Categorical Data"
   ]
  },
  {
   "cell_type": "code",
   "execution_count": 10,
   "metadata": {},
   "outputs": [],
   "source": [
    "from sklearn.preprocessing import LabelEncoder\n",
    "\n",
    "target = {\n",
    "    'M': 1,\n",
    "    'L': 0,\n",
    "    'H': 2\n",
    "}\n",
    "df_balanced['Class'] = df_balanced['Class'].map(target)\n",
    "\n",
    "X_bal = df_balanced.drop('Class', axis=1)\n",
    "y_bal = df_balanced['Class']\n",
    "\n",
    "# Encoding our categorical columns in X\n",
    "labelEncoder = LabelEncoder()\n",
    "cat_columns = X_bal.dtypes.pipe(lambda x: x[x == 'object']).index\n",
    "for col in cat_columns:\n",
    "    X_bal[col] = labelEncoder.fit_transform(X_bal[col])    "
   ]
  },
  {
   "cell_type": "markdown",
   "metadata": {},
   "source": [
    "#### 2.3 Split dataset into train and test data"
   ]
  },
  {
   "cell_type": "code",
   "execution_count": 11,
   "metadata": {},
   "outputs": [],
   "source": [
    "X_train_balanced, X_test_balanced, y_train_balanced, y_test_balanced = train_test_split(X_bal, y_bal, random_state=42)"
   ]
  },
  {
   "cell_type": "markdown",
   "metadata": {},
   "source": [
    "#### 2.4 Models training and performance evaluation"
   ]
  },
  {
   "cell_type": "code",
   "execution_count": 12,
   "metadata": {
    "scrolled": false
   },
   "outputs": [
    {
     "name": "stderr",
     "output_type": "stream",
     "text": [
      "C:\\Users\\Jordan\\Anaconda3\\envs\\sa48\\lib\\site-packages\\sklearn\\linear_model\\logistic.py:947: ConvergenceWarning: lbfgs failed to converge. Increase the number of iterations.\n",
      "  \"of iterations.\", ConvergenceWarning)\n"
     ]
    },
    {
     "name": "stdout",
     "output_type": "stream",
     "text": [
      "Logistic Regression\n",
      "\n",
      "Confusion matrix:\n",
      "[[34  2  0]\n",
      " [ 8 17 13]\n",
      " [ 1  5 25]]\n",
      "Accuracy score: 0.7238095238095238\n",
      "Training took 0.05484938621520996 seconds.\n",
      "\n",
      "\n",
      "\n",
      "K-NN Classification\n",
      "\n",
      "Confusion matrix:\n",
      "[[32  3  1]\n",
      " [ 9 18 11]\n",
      " [ 3  9 19]]\n",
      "Accuracy score: 0.6571428571428571\n",
      "Training took 0.0029909610748291016 seconds.\n",
      "\n",
      "\n",
      "\n",
      "Support Vector Machines\n",
      "\n",
      "Confusion matrix:\n",
      "[[30  6  0]\n",
      " [ 2 27  9]\n",
      " [ 0  8 23]]\n",
      "Accuracy score: 0.7619047619047619\n",
      "Training took 0.6273202896118164 seconds.\n",
      "\n",
      "\n",
      "\n",
      "Decision Tree\n",
      "\n",
      "Confusion matrix:\n",
      "[[30  6  0]\n",
      " [ 4 23 11]\n",
      " [ 1  8 22]]\n",
      "Accuracy score: 0.7142857142857143\n",
      "Training took 0.0049822330474853516 seconds.\n",
      "\n",
      "\n",
      "\n",
      "Random Forest\n",
      "\n",
      "Confusion matrix:\n",
      "[[32  4  0]\n",
      " [ 3 27  8]\n",
      " [ 0  6 25]]\n",
      "Accuracy score: 0.8\n",
      "Training took 0.22344398498535156 seconds.\n",
      "\n",
      "\n",
      "\n",
      "Comparison of the 5 supervised machine learning techniques using full model with balanced dataset\n",
      "                     Model  Accuracy score  Training time\n",
      "0      Logistic Regression        0.723810       0.054849\n",
      "1      K-NN Classification        0.657143       0.002991\n",
      "2  Support Vector Machines        0.761905       0.627320\n",
      "3            Decision Tree        0.714286       0.004982\n",
      "4            Random Forest        0.800000       0.223444\n"
     ]
    }
   ],
   "source": [
    "keys = []\n",
    "scores = []\n",
    "timings = []\n",
    "models = {'Logistic Regression': LogisticRegression(solver = 'lbfgs', multi_class = 'multinomial'), \n",
    "          'K-NN Classification': KNeighborsClassifier(n_neighbors = 3),\n",
    "          'Support Vector Machines': SVC(kernel = 'linear'), 'Decision Tree': DecisionTreeClassifier(),\n",
    "          'Random Forest': RandomForestClassifier(n_estimators=150, random_state=42)}\n",
    "\n",
    "for k,v in models.items():\n",
    "    mod = v\n",
    "    start_time = time.time()\n",
    "    mod.fit(X_train_balanced, y_train_balanced)\n",
    "    time_elapsed = time.time() - start_time\n",
    "    pred = mod.predict(X_test_balanced)\n",
    "    print(str(k) + '\\n')\n",
    "    print(\"Confusion matrix:\")\n",
    "    print(confusion_matrix(y_test_balanced, pred))\n",
    "    accuracy = accuracy_score(y_test_balanced, pred)\n",
    "    print(\"Accuracy score: \"+ str(accuracy))\n",
    "    print(\"Training took %s seconds.\" % (time_elapsed))\n",
    "    print('\\n' + '\\n')\n",
    "    keys.append(k)\n",
    "    scores.append(accuracy)\n",
    "    timings.append(time_elapsed)\n",
    "    table_fullmodel_balanced = pd.DataFrame({'Model':keys, 'Accuracy score':scores, 'Training time':timings})\n",
    "\n",
    "print(\"Comparison of the 5 supervised machine learning techniques using full model with balanced dataset\")\n",
    "print(table_fullmodel_balanced)"
   ]
  },
  {
   "cell_type": "code",
   "execution_count": null,
   "metadata": {},
   "outputs": [],
   "source": []
  }
 ],
 "metadata": {
  "kernelspec": {
   "display_name": "Python 3",
   "language": "python",
   "name": "python3"
  },
  "language_info": {
   "codemirror_mode": {
    "name": "ipython",
    "version": 3
   },
   "file_extension": ".py",
   "mimetype": "text/x-python",
   "name": "python",
   "nbconvert_exporter": "python",
   "pygments_lexer": "ipython3",
   "version": "3.7.3"
  }
 },
 "nbformat": 4,
 "nbformat_minor": 2
}
